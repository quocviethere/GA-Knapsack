{
 "cells": [
  {
   "cell_type": "code",
   "execution_count": null,
   "id": "b898f588",
   "metadata": {},
   "outputs": [
    {
     "name": "stderr",
     "output_type": "stream",
     "text": [
      "2023-05-04 17:41:03.657 python[53315:2319320] ERROR: setApplicationProperty: called with invalid property\n"
     ]
    }
   ],
   "source": [
    "import sys\n",
    "from PyQt5.QtWidgets import QApplication, QWidget, QLabel, QLineEdit, QPushButton, QVBoxLayout\n",
    "import ga_algorithm2\n",
    "\n",
    "class KnapsackProblem(QWidget):\n",
    "    def __init__(self):\n",
    "        super().__init__()\n",
    "\n",
    "        # create the UI elements\n",
    "        self.items_label = QLabel('Number of Items:')\n",
    "        self.items_input = QLineEdit()\n",
    "        self.values_label = QLabel('Values (separated by comma):')\n",
    "        self.values_input = QLineEdit()\n",
    "        self.weights_label = QLabel('Weights (separated by comma):')\n",
    "        self.weights_input = QLineEdit()\n",
    "        self.max_weight_label = QLabel('Max Weight:')\n",
    "        self.max_weight_input = QLineEdit()\n",
    "        self.run_button = QPushButton('Run')\n",
    "        self.solution_label = QLabel()\n",
    "\n",
    "        # set the UI layout\n",
    "        layout = QVBoxLayout()\n",
    "        layout.addWidget(self.items_label)\n",
    "        layout.addWidget(self.items_input)\n",
    "        layout.addWidget(self.values_label)\n",
    "        layout.addWidget(self.values_input)\n",
    "        layout.addWidget(self.weights_label)\n",
    "        layout.addWidget(self.weights_input)\n",
    "        layout.addWidget(self.max_weight_label)\n",
    "        layout.addWidget(self.max_weight_input)\n",
    "        layout.addWidget(self.run_button)\n",
    "        layout.addWidget(self.solution_label)\n",
    "        self.setLayout(layout)\n",
    "\n",
    "        # connect the run button to the genetic algorithm\n",
    "        self.run_button.clicked.connect(self.run_genetic_algorithm)\n",
    "\n",
    "    def run_genetic_algorithm(self):\n",
    "        # get the inputs from the UI\n",
    "        n_items = int(self.items_input.text())\n",
    "        values = [int(val) for val in self.values_input.text().split(',')]\n",
    "        weights = [int(wt) for wt in self.weights_input.text().split(',')]\n",
    "        max_weight = int(self.max_weight_input.text())\n",
    "\n",
    "        # run the genetic algorithm\n",
    "        solution = ga_algorithm2.genetic_algorithm(n_items, values, weights, max_weight)\n",
    "\n",
    "        # display the solution\n",
    "        self.solution_label.setText('Items selected: {}\\nTotal value: {}\\nTotal weight: {}'.format(solution['items'], solution['value'], solution['weight']))\n",
    "\n",
    "if __name__ == '__main__':\n",
    "    app = QApplication(sys.argv)\n",
    "    knapsack_problem = KnapsackProblem()\n",
    "    knapsack_problem.show()\n",
    "    sys.exit(app.exec_())"
   ]
  },
  {
   "cell_type": "code",
   "execution_count": null,
   "id": "49ed3da8",
   "metadata": {},
   "outputs": [],
   "source": []
  }
 ],
 "metadata": {
  "kernelspec": {
   "display_name": "Python 3 (ipykernel)",
   "language": "python",
   "name": "python3"
  },
  "language_info": {
   "codemirror_mode": {
    "name": "ipython",
    "version": 3
   },
   "file_extension": ".py",
   "mimetype": "text/x-python",
   "name": "python",
   "nbconvert_exporter": "python",
   "pygments_lexer": "ipython3",
   "version": "3.9.13"
  }
 },
 "nbformat": 4,
 "nbformat_minor": 5
}
