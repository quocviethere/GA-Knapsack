{
  "cells": [
    {
      "cell_type": "markdown",
      "metadata": {
        "id": "IVq8A8PdA5rh"
      },
      "source": [
        "**Knapsack 0/1**"
      ]
    },
    {
      "cell_type": "code",
      "execution_count": 73,
      "metadata": {
        "id": "u74-Q-g2A5rj"
      },
      "outputs": [],
      "source": [
        "# phát biểu: có n = 12 vật có giá trị và cân nặng có trước\n",
        "# hãy để n vật này vào một cái túi có sức chứa tối đa max_weight = 70kg\n",
        "# sao cho giá trị trong chiếc túi là lớn nhất.\n",
        "\n",
        "import random\n",
        "\n",
        "n = 12   # số lượng vật\n",
        "m = 360  # số lượng cá thể trong quần thể\n",
        "n_generations = 10 # so doi\n",
        "fitnesses = [] \n",
        "max_weight = 70 # khối lượng tối đa cái túi có thể đựng được\n",
        "\n",
        "# Dữ liệu được định nghĩa trước\n",
        "weights = [1, 2, 5, 7, 10, 12, 15, 23, 32, 33, 35, 37]  # cân nặng các vật\n",
        "prices =  [1, 3, 6, 7, 12, 15, 25, 32, 44, 45, 47, 50]  # giá tiền của các vật tương ứng"
      ]
    },
    {
      "cell_type": "markdown",
      "source": [
        "**Tạo giá trị gen ngẫu nhiên**"
      ],
      "metadata": {
        "id": "Ey9A9M7mwgXH"
      }
    },
    {
      "cell_type": "code",
      "source": [
        "def generate_random_value():  \n",
        "    return random.randint(0, 1)   "
      ],
      "metadata": {
        "id": "De7FeGxWBqMv"
      },
      "execution_count": 74,
      "outputs": []
    },
    {
      "cell_type": "markdown",
      "source": [
        "**Tạo nhiễm sắc thể**"
      ],
      "metadata": {
        "id": "rEQkfAMwyNiX"
      }
    },
    {
      "cell_type": "code",
      "source": [
        "def create_individual():\n",
        "    return [generate_random_value() for _ in range(n)]"
      ],
      "metadata": {
        "id": "M8CVNf0gBRoS"
      },
      "execution_count": 75,
      "outputs": []
    },
    {
      "cell_type": "markdown",
      "source": [
        "**Tính Fitness**"
      ],
      "metadata": {
        "id": "Diubdg07yVun"
      }
    },
    {
      "cell_type": "code",
      "source": [
        "def compute_fitness(individual):\n",
        "    fitness = sum(c*x for c, x in zip(individual, prices))\n",
        "\n",
        "    # kiểm tra xem individual có vượt quá khối lượng không\n",
        "    if compute_weight(individual) > max_weight:\n",
        "        # penalty\n",
        "        fitness = 0\n",
        "    \n",
        "    return fitness"
      ],
      "metadata": {
        "id": "-a32k7wlBRxL"
      },
      "execution_count": 76,
      "outputs": []
    },
    {
      "cell_type": "markdown",
      "source": [
        "**Tính cân nặng**"
      ],
      "metadata": {
        "id": "zhRx2k7VyZiu"
      }
    },
    {
      "cell_type": "code",
      "source": [
        "def compute_weight(individual):\n",
        "    sum_weight = sum(c*x for c, x in zip(individual, weights))\n",
        "    return sum_weight"
      ],
      "metadata": {
        "id": "ApdLY2s-BR0S"
      },
      "execution_count": 77,
      "outputs": []
    },
    {
      "cell_type": "markdown",
      "source": [
        "**Định nghĩa hàm lựa chọn**"
      ],
      "metadata": {
        "id": "BmpOjIzjyice"
      }
    },
    {
      "cell_type": "code",
      "source": [
        "def selection(sorted_population):\n",
        "    index1 = random.randint(0, m-1)\n",
        "    while True:\n",
        "        index2 = random.randint(0, m-1)\n",
        "        if index2 != index1:\n",
        "            break\n",
        "    individual = sorted_population[index1]\n",
        "    if index1 < index2:\n",
        "        individual = sorted_population[index2]\n",
        "    return individual"
      ],
      "metadata": {
        "id": "tYTD_oYpBR3L"
      },
      "execution_count": 78,
      "outputs": []
    },
    {
      "cell_type": "markdown",
      "source": [
        "**Định nghĩa hàm lai ghép (`Crossover`)**"
      ],
      "metadata": {
        "id": "a6eqqDhVym3d"
      }
    },
    {
      "cell_type": "code",
      "source": [
        "def crossover(individual1, individual2, crossover_rate = 0.9):\n",
        "    individual_c1 = individual1.copy()\n",
        "    individual_c2 = individual2.copy()\n",
        "    if random.random() < crossover_rate:\n",
        "        index = random.randint(1, n - 2)\n",
        "        for i in range(index):\n",
        "            individual_c1[i] = individual2[i]\n",
        "            individual_c2[i] = individual1[i]\n",
        "    return individual_c1, individual_c2"
      ],
      "metadata": {
        "id": "A7_ucKFCBR6U"
      },
      "execution_count": 79,
      "outputs": []
    },
    {
      "cell_type": "markdown",
      "source": [
        "**Định nghĩa hàm đột biến `mutate`**"
      ],
      "metadata": {
        "id": "U_XEdtnQ1VK2"
      }
    },
    {
      "cell_type": "code",
      "source": [
        "def mutate(individual, mutation_rate = 0.05):\n",
        "    individual_new = individual.copy()\n",
        "    if random.random() < mutation_rate:\n",
        "        index = random.randint(0, n-1)\n",
        "        individual_new[index] = generate_random_value()\n",
        "    return individual_new"
      ],
      "metadata": {
        "id": "S9yXjRimBR9O"
      },
      "execution_count": 80,
      "outputs": []
    },
    {
      "cell_type": "code",
      "source": [
        "# tao quan the moi\n",
        "def create_new_population(old_popuation):\n",
        "    sorted_old_popuation = sorted(old_popuation, key = compute_fitness)\n",
        "    fitnesses.append(compute_fitness(sorted_old_popuation[-1]))\n",
        "    #print('fitness', fitnesses[-1])\n",
        "\n",
        "    new_population = []\n",
        "    while len(new_population) < m - 2:\n",
        "        # chon loc\n",
        "        individual1 = selection(sorted_old_popuation)\n",
        "        individual2 = selection(sorted_old_popuation)\n",
        "\n",
        "        # lai ghep\n",
        "        individual_c1, individual_c2 = crossover(individual1, individual2)\n",
        "\n",
        "        # dot bien\n",
        "        individual_m1 = mutate(individual_c1)\n",
        "        individual_m2 = mutate(individual_c2)\n",
        "\n",
        "        # cho vao quan the moi\n",
        "        new_population.append(individual_m1)\n",
        "        new_population.append(individual_m2)\n",
        "        \n",
        "    new_population.append(sorted_old_popuation[-1])\n",
        "    new_population.append(sorted_old_popuation[-2])\n",
        "\n",
        "    return new_population"
      ],
      "metadata": {
        "id": "XCjxImc6BR_3"
      },
      "execution_count": 81,
      "outputs": []
    },
    {
      "cell_type": "code",
      "source": [
        "# tao quan the ban dau\n",
        "population = [create_individual() for _ in range(m)]\n",
        "\n",
        "for i in range(n_generations):\n",
        "    population = create_new_population(population)\n",
        "    \n",
        "    # for debugging\n",
        "    if (i%1==0):\n",
        "        sorted_popuation = sorted(population, key=compute_fitness)\n",
        "        print('fitness', compute_fitness(sorted_popuation[-1]))"
      ],
      "metadata": {
        "colab": {
          "base_uri": "https://localhost:8080/"
        },
        "id": "1uoRCVe4BSCi",
        "outputId": "cc6b673e-af04-4d82-9be8-28d6a51eca2e"
      },
      "execution_count": 82,
      "outputs": [
        {
          "output_type": "stream",
          "name": "stdout",
          "text": [
            "fitness 96\n",
            "fitness 97\n",
            "fitness 101\n",
            "fitness 101\n",
            "fitness 101\n",
            "fitness 101\n",
            "fitness 101\n",
            "fitness 101\n",
            "fitness 101\n",
            "fitness 101\n"
          ]
        }
      ]
    },
    {
      "cell_type": "code",
      "source": [
        "sorted_population = sorted(population, key = compute_fitness)\n",
        "print('Các vật cho vào túi: ', sorted_population[-1])\n",
        "print('Khối lượng: ', compute_weight(sorted_population[-1]))\n",
        "print('Giá tiền: ', compute_fitness(sorted_population[-1]))"
      ],
      "metadata": {
        "colab": {
          "base_uri": "https://localhost:8080/"
        },
        "id": "rrJrbXjXBSFT",
        "outputId": "04c9a533-68d2-41a6-fe0e-67f6a71b2124"
      },
      "execution_count": 83,
      "outputs": [
        {
          "output_type": "stream",
          "name": "stdout",
          "text": [
            "Các vật cho vào túi:  [0, 0, 0, 0, 0, 0, 1, 1, 1, 0, 0, 0]\n",
            "Khối lượng:  70\n",
            "Giá tiền:  101\n"
          ]
        }
      ]
    },
    {
      "cell_type": "code",
      "source": [
        "import matplotlib.pyplot as plt\n",
        "\n",
        "plt.plot(fitnesses)"
      ],
      "metadata": {
        "colab": {
          "base_uri": "https://localhost:8080/",
          "height": 283
        },
        "id": "CjIryAE1rXtP",
        "outputId": "065e4c26-bb16-4773-963b-5992bc8d4c97"
      },
      "execution_count": 84,
      "outputs": [
        {
          "output_type": "execute_result",
          "data": {
            "text/plain": [
              "[<matplotlib.lines.Line2D at 0x7f2b183c8640>]"
            ]
          },
          "metadata": {},
          "execution_count": 84
        },
        {
          "output_type": "display_data",
          "data": {
            "text/plain": [
              "<Figure size 432x288 with 1 Axes>"
            ],
            "image/png": "[encoded data removed]"
          },
          "metadata": {
            "needs_background": "light"
          }
        }
      ]
    }
  ],
  "metadata": {
    "kernelspec": {
      "display_name": "Python 3 (ipykernel)",
      "language": "python",
      "name": "python3"
    },
    "language_info": {
      "codemirror_mode": {
        "name": "ipython",
        "version": 3
      },
      "file_extension": ".py",
      "mimetype": "text/x-python",
      "name": "python",
      "nbconvert_exporter": "python",
      "pygments_lexer": "ipython3",
      "version": "3.9.13"
    },
    "colab": {
      "provenance": []
    },
    "accelerator": "GPU",
    "gpuClass": "standard"
  },
  "nbformat": 4,
  "nbformat_minor": 0
}